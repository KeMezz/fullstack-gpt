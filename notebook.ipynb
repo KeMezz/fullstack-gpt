{
 "cells": [
  {
   "cell_type": "code",
   "execution_count": 10,
   "metadata": {},
   "outputs": [
    {
     "data": {
      "text/plain": [
       "'The distance between Korea and Japan varies depending on the specific locations being measured. On average, the distance between Seoul, South Korea and Tokyo, Japan is approximately 1,100 kilometers (683 miles) when measured in a straight line. However, the actual distance can be longer when taking into account the specific points of departure and arrival, as well as the mode of transportation being used.'"
      ]
     },
     "execution_count": 10,
     "metadata": {},
     "output_type": "execute_result"
    }
   ],
   "source": [
    "from langchain.chat_models import ChatOpenAI\n",
    "from langchain.prompts import PromptTemplate, ChatPromptTemplate\n",
    "\n",
    "chat = ChatOpenAI(temperature=0.1)\n",
    "\n",
    "template = PromptTemplate.from_template(\n",
    "  'What is the distance between {country_a} and {country_b}?'\n",
    ");\n",
    "\n",
    "prompt = template.format(country_a=\"Korea\", country_b=\"Japan\")\n",
    "\n",
    "\n",
    "chat.predict(prompt)\n"
   ]
  },
  {
   "cell_type": "code",
   "execution_count": 11,
   "metadata": {},
   "outputs": [
    {
     "data": {
      "text/plain": [
       "[SystemMessage(content='You are a geography expert. And you only reply in Korean.'),\n",
       " AIMessage(content='안녕! 내 이름은 민수이야. 나는 지리 전문가야. 무엇을 도와줄까?'),\n",
       " HumanMessage(content='한국와 일본 사이의 거리는 얼마나 되나요? 그리고 당신의 이름은 무엇인가요?')]"
      ]
     },
     "execution_count": 11,
     "metadata": {},
     "output_type": "execute_result"
    }
   ],
   "source": [
    "template = ChatPromptTemplate.from_messages([\n",
    "  (\"system\", 'You are a geography expert. And you only reply in {language}.'),\n",
    "  (\"ai\", \"안녕! 내 이름은 {name}. 나는 지리 전문가야. 무엇을 도와줄까?\"),\n",
    "  ('human', \"{country_a}와 {country_b} 사이의 거리는 얼마나 되나요? 그리고 당신의 이름은 무엇인가요?\")\n",
    "])\n",
    "\n",
    "prompt = template.format_messages(language=\"Korean\", name=\"민수\", country_a=\"한국\", country_b=\"일본\")\n",
    "\n",
    "chat.predict_messages(prompt)"
   ]
  }
 ],
 "metadata": {
  "kernelspec": {
   "display_name": "env",
   "language": "python",
   "name": "python3"
  },
  "language_info": {
   "codemirror_mode": {
    "name": "ipython",
    "version": 3
   },
   "file_extension": ".py",
   "mimetype": "text/x-python",
   "name": "python",
   "nbconvert_exporter": "python",
   "pygments_lexer": "ipython3",
   "version": "3.11.8"
  }
 },
 "nbformat": 4,
 "nbformat_minor": 2
}
