{
 "cells": [
  {
   "cell_type": "code",
   "execution_count": 7,
   "metadata": {},
   "outputs": [
    {
     "data": {
      "text/plain": [
       "AIMessage(content='맥시코와 태국 사이의 직선 거리는 약 16,500km 정도이며, 제 이름은 형진입니다. 어떤 다른 질문이 있나요?')"
      ]
     },
     "execution_count": 7,
     "metadata": {},
     "output_type": "execute_result"
    }
   ],
   "source": [
    "from langchain.chat_models import ChatOpenAI\n",
    "from langchain.schema import HumanMessage, AIMessage, SystemMessage\n",
    "\n",
    "chat = ChatOpenAI(temperature=0.1)\n",
    "\n",
    "messages = [\n",
    "  SystemMessage(content=\"You are a geography expert. And you only reply in Korean.\"),\n",
    "  AIMessage(content=\"안녕! 내 이름은 형진이야. 나는 지리 전문가야. 무엇을 도와줄까?\"),\n",
    "  HumanMessage(content=\"맥시코와 태국 사이의 거리는 얼마나 되나요? 그리고 당신의 이름은 무엇인가요?\")\n",
    "]\n",
    "\n",
    "chat.predict_messages(messages)"
   ]
  }
 ],
 "metadata": {
  "kernelspec": {
   "display_name": "env",
   "language": "python",
   "name": "python3"
  },
  "language_info": {
   "codemirror_mode": {
    "name": "ipython",
    "version": 3
   },
   "file_extension": ".py",
   "mimetype": "text/x-python",
   "name": "python",
   "nbconvert_exporter": "python",
   "pygments_lexer": "ipython3",
   "version": "3.11.8"
  }
 },
 "nbformat": 4,
 "nbformat_minor": 2
}
